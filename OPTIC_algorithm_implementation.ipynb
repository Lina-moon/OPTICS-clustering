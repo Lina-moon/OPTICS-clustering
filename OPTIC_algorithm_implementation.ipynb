{
  "nbformat": 4,
  "nbformat_minor": 0,
  "metadata": {
    "kernelspec": {
      "display_name": "Python 3",
      "language": "python",
      "name": "python3"
    },
    "language_info": {
      "codemirror_mode": {
        "name": "ipython",
        "version": 3
      },
      "file_extension": ".py",
      "mimetype": "text/x-python",
      "name": "python",
      "nbconvert_exporter": "python",
      "pygments_lexer": "ipython3",
      "version": "3.6.7"
    },
    "colab": {
      "provenance": []
    }
  },
  "cells": [
    {
      "cell_type": "markdown",
      "metadata": {
        "id": "3DgtOLUdTwmh"
      },
      "source": [
        "# OPTIC algorithm implementation"
      ]
    },
    {
      "cell_type": "markdown",
      "metadata": {
        "id": "XEZmDDdtTwmn"
      },
      "source": [
        "### Define class of a single object"
      ]
    },
    {
      "cell_type": "code",
      "metadata": {
        "id": "lvlfSYkeTwmo"
      },
      "source": [
        "class Object:\n",
        "    def __init__(self, value, processed = False, reachability_distance = np.inf, core_distance = np.inf, distance = 0, cluster_id = -1):\n",
        "        self.value = value\n",
        "        self.processed = processed\n",
        "        self.reachability_distance = reachability_distance # UNDEFINED np.inf\n",
        "        self.dist = distance\n",
        "        self.core_distance = core_distance\n",
        "        self.cluster_id = cluster_id\n",
        "\n",
        "    def setCoreDistance(self, neighbors, e, MinPts):\n",
        "        if len(neighbors) >= MinPts:\n",
        "            ordered_neighbors = sorted(neighbors, key=lambda x: x.dist)\n",
        "            self.core_distance = ordered_neighbors[MinPts -1].dist\n",
        "        return 0\n",
        ""
      ],
      "execution_count": null,
      "outputs": []
    },
    {
      "cell_type": "markdown",
      "metadata": {
        "id": "M7eJTfBKTwmq"
      },
      "source": [
        "![image.png](https://sun9-75.userapi.com/impg/52DYzB-nom5bedYZi2sjaSqQZLuJAawqaz4ozw/T3TMSIYj7i0.jpg?size=360x458&quality=96&sign=24e82010d0ef90d53fc05e95d92e6f5f&type=album)"
      ]
    },
    {
      "cell_type": "code",
      "metadata": {
        "colab": {
          "base_uri": "https://localhost:8080/"
        },
        "id": "Mx13wxf6Twmr",
        "outputId": "6e901247-6a16-47e5-d6d5-d07de87e1f1b"
      },
      "source": [
        "ob = Object([2,1])\n",
        "ob.processed"
      ],
      "execution_count": null,
      "outputs": [
        {
          "output_type": "execute_result",
          "data": {
            "text/plain": [
              "False"
            ]
          },
          "metadata": {},
          "execution_count": 12
        }
      ]
    },
    {
      "cell_type": "code",
      "metadata": {
        "id": "5GvDuQxXTwmt"
      },
      "source": [
        "from scipy.spatial import distance\n",
        "\n",
        "def culc_euq_dist(a, b):\n",
        "    return distance.euclidean(a, b)"
      ],
      "execution_count": null,
      "outputs": []
    },
    {
      "cell_type": "markdown",
      "metadata": {
        "id": "Ru1fBzJmTwmu"
      },
      "source": [
        "### Find all neighbours"
      ]
    },
    {
      "cell_type": "markdown",
      "metadata": {
        "id": "wn0Fc3YTTwmw"
      },
      "source": [
        "![image.png](https://sun9-74.userapi.com/impg/wv1eTLipvu2wAjHJph2oEUTlzw303XCJl_lQoA/oLz5-yXgwUY.jpg?size=842x597&quality=96&sign=404f2ae3eb7096654dbc1ebe5c8a5f42&type=album)"
      ]
    },
    {
      "cell_type": "code",
      "metadata": {
        "id": "L8Vojw0KTwmz"
      },
      "source": [
        "def find_neighbors(Object, e, SetOfObjects):\n",
        "    neighbors = []\n",
        "    for i in SetOfObjects:\n",
        "        distance = culc_euq_dist(Object.value, i.value)\n",
        "        if e >= distance and distance != 0:\n",
        "            i.dist = distance\n",
        "            neighbors.append(i)\n",
        "    return neighbors"
      ],
      "execution_count": null,
      "outputs": []
    },
    {
      "cell_type": "markdown",
      "metadata": {
        "id": "4W3oLF-MTwm1"
      },
      "source": [
        "### OrderSeeds is a bag of reachable objects, ordered by their <br> reachability distance from the currently processed object"
      ]
    },
    {
      "cell_type": "markdown",
      "metadata": {
        "id": "VjpKzwIATwm1"
      },
      "source": [
        "![image.png](https://sun9-86.userapi.com/impg/fI3vHClQIM3rrIZAXtUhtOhqPbRVP0UVJPKXOA/5QP9vWT9iOM.jpg?size=717x438&quality=96&sign=e4dd0815740f7355e9437b73c57a9bd8&type=album)\n"
      ]
    },
    {
      "cell_type": "code",
      "metadata": {
        "id": "F_RnY2ECTwm2"
      },
      "source": [
        "def update_OrderSeeds(OrderSeeds, neighbors, CenterObject):\n",
        "    c_dist = CenterObject.core_distance\n",
        "    for Object in neighbors:\n",
        "        if Object.processed != True:\n",
        "            new_r_dist = max(c_dist, culc_euq_dist(CenterObject.value, Object.value))\n",
        "            if Object.reachability_distance == np.inf:\n",
        "                Object.reachability_distance = new_r_dist\n",
        "                OrderSeeds.append(Object)\n",
        "            else:\n",
        "                if new_r_dist < Object.reachability_distance:\n",
        "                    Object.reachability_distance = new_r_dist\n",
        "            OrderSeeds = sorted(OrderSeeds, key=lambda x: x.reachability_distance)\n",
        "    return OrderSeeds"
      ],
      "execution_count": null,
      "outputs": []
    },
    {
      "cell_type": "markdown",
      "metadata": {
        "id": "1bBLm1WNTwm2"
      },
      "source": [
        "### ExpandClusterOrder starts new valeey and allocates all the objects that it have"
      ]
    },
    {
      "cell_type": "markdown",
      "metadata": {
        "id": "OW7l6d5LTwm3"
      },
      "source": [
        "![image.png](https://sun9-64.userapi.com/impg/4vbKAVGg508n6jBoSjwzkOPKvWanB8jTeJN4lw/HI5PxwRPQ-s.jpg?size=712x576&quality=96&sign=0e11ece37f6e1607cdc5cc983535c7aa&type=album)"
      ]
    },
    {
      "cell_type": "code",
      "metadata": {
        "id": "tMe0uIeFTwm3"
      },
      "source": [
        "def ExpandClusterOrder(SetOfObjects, Object, e, MinPts, Ordered):\n",
        "    neighbors = find_neighbors(Object, e, SetOfObjects)\n",
        "    Object.processed = True\n",
        "    Object.setCoreDistance(neighbors, e, MinPts)\n",
        "    OrderSeeds = []\n",
        "    Ordered.append(Object)\n",
        "    if Object.core_distance != np.inf:\n",
        "        OrderSeeds = update_OrderSeeds(OrderSeeds, neighbors, Object)\n",
        "        while len(OrderSeeds) != 0:\n",
        "            currentObject = OrderSeeds[0]\n",
        "            OrderSeeds.pop(0)\n",
        "            neighbors = find_neighbors(currentObject, e, SetOfObjects)\n",
        "            currentObject.processed = True\n",
        "            currentObject.setCoreDistance(neighbors, e, MinPts)\n",
        "            Ordered.append(currentObject)\n",
        "            if currentObject.core_distance != np.inf:\n",
        "                OrderSeeds = update_OrderSeeds(OrderSeeds, neighbors, currentObject)\n",
        "\n",
        "    return Ordered"
      ],
      "execution_count": null,
      "outputs": []
    },
    {
      "cell_type": "markdown",
      "metadata": {
        "id": "NTG0w8ejTwm4"
      },
      "source": [
        "### OPTICS iterates through all Objects and calls ExpandClusterOrder"
      ]
    },
    {
      "cell_type": "markdown",
      "metadata": {
        "id": "Q8bPKvGvTwm4"
      },
      "source": [
        "![image.png](https://sun9-45.userapi.com/impg/hzumMdDW_gBrCgDM6Jf-w4Ik8eX-X28GaCBXmQ/nnVv7h2GcpE.jpg?size=730x326&quality=96&sign=9f22789f35a4938148c792244983735a&type=album)"
      ]
    },
    {
      "cell_type": "code",
      "metadata": {
        "id": "9es05K-5Twm4"
      },
      "source": [
        "def OPTICS(SetOfObjects, e, MinPts, Ordered):\n",
        "    for i in SetOfObjects:\n",
        "        if i.processed != True:\n",
        "            Ordered = ExpandClusterOrder(SetOfObjects, i, e, MinPts, Ordered)\n",
        "    return Ordered"
      ],
      "execution_count": null,
      "outputs": []
    },
    {
      "cell_type": "markdown",
      "metadata": {
        "id": "_hk8eXe2Twm4"
      },
      "source": [
        "## Dataset creation"
      ]
    },
    {
      "cell_type": "markdown",
      "metadata": {
        "id": "_zr3p-hLTwm5"
      },
      "source": [
        "### Data set 1"
      ]
    },
    {
      "cell_type": "code",
      "metadata": {
        "id": "LW7s4RpJTwm5"
      },
      "source": [
        "from sklearn.datasets import make_blobs\n",
        "import numpy as np\n",
        "import matplotlib.pyplot as plt\n",
        "\n",
        "num_samples_total = 5\n",
        "cluster_centers = [(3,3), (-2,-1), (-10, 10)]\n",
        "num_classes = len(cluster_centers)\n",
        "min_samples = 22\n",
        "cluster_method = 'xi'\n",
        "metric = 'minkowski'\n",
        "\n",
        "# Generate data\n",
        "X, y = make_blobs(n_samples = num_samples_total, centers = cluster_centers, n_features = num_classes, center_box=(0, 1), cluster_std = 0.5)\n",
        "\n",
        "SetOfObjects = []"
      ],
      "execution_count": null,
      "outputs": []
    },
    {
      "cell_type": "code",
      "metadata": {
        "id": "3DbCXl0iTwm5"
      },
      "source": [
        "for i in X:\n",
        "    SetOfObjects.append(Object(i))\n",
        "e = 3\n",
        "MinPts = 1\n",
        "OrderedObjs = []\n",
        "OrderedObjs = OPTICS(SetOfObjects, e, MinPts, OrderedObjs)"
      ],
      "execution_count": null,
      "outputs": []
    },
    {
      "cell_type": "code",
      "metadata": {
        "colab": {
          "base_uri": "https://localhost:8080/"
        },
        "id": "kb_LVYopTwm6",
        "outputId": "4ec36215-2c6b-4c0f-f1ee-d653db6032df"
      },
      "source": [
        "len(OrderedObjs)"
      ],
      "execution_count": null,
      "outputs": [
        {
          "output_type": "execute_result",
          "data": {
            "text/plain": [
              "5"
            ]
          },
          "metadata": {},
          "execution_count": 20
        }
      ]
    },
    {
      "cell_type": "markdown",
      "metadata": {
        "id": "XAT3C0YxTwm6"
      },
      "source": [
        "### Cluster extraction DBSCAN like"
      ]
    },
    {
      "cell_type": "markdown",
      "metadata": {
        "id": "ihjrd2oxTwm7"
      },
      "source": [
        "![image.png](https://sun9-54.userapi.com/impg/sTKOZ-0V7TqBDXYiv509VxDopqp2V5ZV55cxGA/KthIKjVZGNY.jpg?size=757x511&quality=96&sign=0d7b5740ac83d0f6a0741aa8d2e99317&type=album)"
      ]
    },
    {
      "cell_type": "code",
      "metadata": {
        "id": "vkUbZdeATwm7"
      },
      "source": [
        "def next_id(Cluster_ID):\n",
        "    if Cluster_ID == -1:\n",
        "        return 1\n",
        "    else:\n",
        "        return Cluster_ID + 1\n",
        "\n",
        "def ExtractDBSCAN_Clustering(OrderedObjs, e_, MinPts):\n",
        "    ClusterID = -1\n",
        "    for i in OrderedObjs:\n",
        "        if i.reachability_distance > e_:\n",
        "            if i.core_distance <= e_:\n",
        "                ClusterID = next_id(ClusterID)\n",
        "                i.cluster_id = ClusterID\n",
        "            else:\n",
        "                i.cluster_id = -1\n",
        "        else:\n",
        "            i.cluster_id = ClusterID\n",
        "    return OrderedObjs"
      ],
      "execution_count": null,
      "outputs": []
    },
    {
      "cell_type": "code",
      "metadata": {
        "colab": {
          "base_uri": "https://localhost:8080/"
        },
        "id": "OUI6jqBETwm7",
        "outputId": "50d7db62-5472-4577-81f9-b95681ea6a2f"
      },
      "source": [
        "e_ = 3.1\n",
        "MinPts = 2\n",
        "OrderedObjs = ExtractDBSCAN_Clustering(OrderedObjs, e_, MinPts)\n",
        "X = []\n",
        "y = []\n",
        "reachability = []\n",
        "for i in OrderedObjs:\n",
        "    print(i.value, i.cluster_id, i.reachability_distance, i.core_distance)\n",
        "    X.append(i.value)\n",
        "    y.append(i.cluster_id)\n",
        "    if i.reachability_distance == np.inf :\n",
        "        reachability.append(e+1)\n",
        "    else:\n",
        "        reachability.append(i.reachability_distance)"
      ],
      "execution_count": null,
      "outputs": [
        {
          "output_type": "stream",
          "name": "stdout",
          "text": [
            "[2.95434002 3.41688213] 1 inf 0.5073468746433074\n",
            "[2.67254795 2.99498869] 1 0.5073468746433074 0.5073468746433074\n",
            "[-2.32849725 -0.85298218] 2 inf 1.0477578293280514\n",
            "[-1.74906072 -1.72593681] 2 1.0477578293280514 1.0477578293280514\n",
            "[-9.09123528  9.6118573 ] -1 inf inf\n"
          ]
        }
      ]
    },
    {
      "cell_type": "code",
      "metadata": {
        "colab": {
          "base_uri": "https://localhost:8080/",
          "height": 282
        },
        "id": "hVjwiwanTwm8",
        "outputId": "8f2d4d89-3df6-4e70-b7c8-577567df1bee"
      },
      "source": [
        "X = np.array(X)\n",
        "plt.scatter(X[:,0], X[:,1], c=y)"
      ],
      "execution_count": null,
      "outputs": [
        {
          "output_type": "execute_result",
          "data": {
            "text/plain": [
              "<matplotlib.collections.PathCollection at 0x7fda78e54e50>"
            ]
          },
          "metadata": {},
          "execution_count": 23
        },
        {
          "output_type": "display_data",
          "data": {
            "image/png": "[encoded data removed]",
            "text/plain": [
              "<Figure size 432x288 with 1 Axes>"
            ]
          },
          "metadata": {
            "needs_background": "light"
          }
        }
      ]
    },
    {
      "cell_type": "code",
      "metadata": {
        "colab": {
          "base_uri": "https://localhost:8080/",
          "height": 474
        },
        "id": "RiOZyIF6Twm9",
        "outputId": "a5bca507-da6b-4506-deff-4ef72220518b"
      },
      "source": [
        "plt.figure(figsize=(10, 7))\n",
        "x_coordinate = 0\n",
        "for i in reachability:\n",
        "    plt.vlines(x=x_coordinate, ymin=0, ymax=i, colors='violet', lw=10)\n",
        "    x_coordinate +=0.01\n",
        "\n",
        "plt.title(f'Reachability plot')\n",
        "plt.xlabel('Ordered Objects')\n",
        "plt.ylabel('e')"
      ],
      "execution_count": null,
      "outputs": [
        {
          "output_type": "execute_result",
          "data": {
            "text/plain": [
              "Text(0, 0.5, 'e')"
            ]
          },
          "metadata": {},
          "execution_count": 24
        },
        {
          "output_type": "display_data",
          "data": {
            "image/png": "[encoded data removed]",
            "text/plain": [
              "<Figure size 720x504 with 1 Axes>"
            ]
          },
          "metadata": {
            "needs_background": "light"
          }
        }
      ]
    },
    {
      "cell_type": "markdown",
      "metadata": {
        "id": "gmkvZV21Twm-"
      },
      "source": [
        "### Dataset 2"
      ]
    },
    {
      "cell_type": "code",
      "metadata": {
        "id": "Q4_EBBdNTwm-"
      },
      "source": [
        "num_samples_total = 50\n",
        "cluster_centers = [(3,3), (-2,-1), (-10, 10)]\n",
        "num_classes = len(cluster_centers)\n",
        "min_samples = 22\n",
        "cluster_method = 'xi'\n",
        "metric = 'minkowski'\n",
        "\n",
        "# Generate data\n",
        "X, y = make_blobs(n_samples = num_samples_total, centers = cluster_centers, n_features = num_classes, center_box=(0, 1), cluster_std = 0.5)\n",
        "\n",
        "num_samples_total = 50\n",
        "cluster_centers = [(0,2)]\n",
        "num_classes = len(cluster_centers)\n",
        "min_samples = 22\n",
        "cluster_method = 'xi'\n",
        "metric = 'minkowski'\n",
        "X_1, y_1 = make_blobs(n_samples = num_samples_total, centers = cluster_centers, n_features = num_classes, center_box=(0, 1), cluster_std = 3)\n",
        "\n",
        "\n",
        "X = np.concatenate((X, X_1), axis=0)\n",
        "\n",
        "y = np.concatenate((y, y_1), axis=0)\n",
        "\n",
        "SetOfObjects = []"
      ],
      "execution_count": null,
      "outputs": []
    },
    {
      "cell_type": "code",
      "metadata": {
        "id": "cMTXELmtTwm_"
      },
      "source": [
        "for i in X:\n",
        "    SetOfObjects.append(Object(i))\n",
        "e = 3\n",
        "MinPts = 10\n",
        "OrderedObjs = []\n",
        "OrderedObjs = OPTICS(SetOfObjects, e, MinPts, OrderedObjs)"
      ],
      "execution_count": null,
      "outputs": []
    },
    {
      "cell_type": "code",
      "metadata": {
        "colab": {
          "base_uri": "https://localhost:8080/",
          "height": 281
        },
        "id": "JJPlgVU4Twm_",
        "outputId": "9ba8fbb5-4aaf-46ef-df6b-7246b8160bc8"
      },
      "source": [
        "plt.scatter(X[:,0], X[:,1])"
      ],
      "execution_count": null,
      "outputs": [
        {
          "output_type": "execute_result",
          "data": {
            "text/plain": [
              "<matplotlib.collections.PathCollection at 0x7fda7886cd50>"
            ]
          },
          "metadata": {},
          "execution_count": 27
        },
        {
          "output_type": "display_data",
          "data": {
            "image/png": "[encoded data removed]",
            "text/plain": [
              "<Figure size 432x288 with 1 Axes>"
            ]
          },
          "metadata": {
            "needs_background": "light"
          }
        }
      ]
    },
    {
      "cell_type": "code",
      "metadata": {
        "colab": {
          "base_uri": "https://localhost:8080/",
          "height": 281
        },
        "id": "lLbJSJzaTwnA",
        "outputId": "d4459d33-31fc-4161-be33-b680d3a7166b"
      },
      "source": [
        "e_ = 1\n",
        "OrderedObjs = ExtractDBSCAN_Clustering(OrderedObjs, e_, MinPts)\n",
        "X = []\n",
        "y = []\n",
        "reachability = []\n",
        "for i in OrderedObjs:\n",
        "    #print(i.value, i.cluster_id, i.reachability_distance, i.core_distance)\n",
        "    X.append(i.value)\n",
        "    y.append(i.cluster_id)\n",
        "    if i.reachability_distance == np.inf :\n",
        "        reachability.append(e+1)\n",
        "    else:\n",
        "        reachability.append(i.reachability_distance)\n",
        "X = np.array(X)\n",
        "plt.scatter(X[:,0], X[:,1], c=y)"
      ],
      "execution_count": null,
      "outputs": [
        {
          "output_type": "execute_result",
          "data": {
            "text/plain": [
              "<matplotlib.collections.PathCollection at 0x7fda787e97d0>"
            ]
          },
          "metadata": {},
          "execution_count": 28
        },
        {
          "output_type": "display_data",
          "data": {
            "image/png": "[encoded data removed]",
            "text/plain": [
              "<Figure size 432x288 with 1 Axes>"
            ]
          },
          "metadata": {
            "needs_background": "light"
          }
        }
      ]
    },
    {
      "cell_type": "code",
      "metadata": {
        "colab": {
          "base_uri": "https://localhost:8080/",
          "height": 474
        },
        "id": "qRHhMMzkTwnB",
        "outputId": "dc1ed70b-4c4f-4a38-ae9d-96c5ae0ad69c"
      },
      "source": [
        "plt.figure(figsize=(10, 7))\n",
        "x_coordinate = 0\n",
        "for i in reachability:\n",
        "    plt.vlines(x=x_coordinate, ymin=0, ymax=i, colors='violet', lw=5)\n",
        "    x_coordinate +=0.01\n",
        "\n",
        "plt.title(f'Reachability plot')\n",
        "plt.xlabel('Ordered Objects')\n",
        "plt.ylabel('e')"
      ],
      "execution_count": null,
      "outputs": [
        {
          "output_type": "execute_result",
          "data": {
            "text/plain": [
              "Text(0, 0.5, 'e')"
            ]
          },
          "metadata": {},
          "execution_count": 29
        },
        {
          "output_type": "display_data",
          "data": {
            "image/png": "[encoded data removed]",
            "text/plain": [
              "<Figure size 720x504 with 1 Axes>"
            ]
          },
          "metadata": {
            "needs_background": "light"
          }
        }
      ]
    },
    {
      "cell_type": "markdown",
      "metadata": {
        "id": "AKJl4pohTwnB"
      },
      "source": [
        "## Original DBSCAN"
      ]
    },
    {
      "cell_type": "code",
      "metadata": {
        "colab": {
          "base_uri": "https://localhost:8080/",
          "height": 281
        },
        "id": "542ap7KGTwnC",
        "outputId": "7d4e0976-3c66-425c-c0c6-9edcd18c4080"
      },
      "source": [
        "from sklearn.cluster import DBSCAN\n",
        "X = np.array(X)\n",
        "clustering = DBSCAN(eps=1, min_samples=10).fit(X)\n",
        "plt.scatter(X[:,0], X[:,1], c=clustering.labels_)"
      ],
      "execution_count": null,
      "outputs": [
        {
          "output_type": "execute_result",
          "data": {
            "text/plain": [
              "<matplotlib.collections.PathCollection at 0x7fda73c3b490>"
            ]
          },
          "metadata": {},
          "execution_count": 30
        },
        {
          "output_type": "display_data",
          "data": {
            "image/png": "[encoded data removed]",
            "text/plain": [
              "<Figure size 432x288 with 1 Axes>"
            ]
          },
          "metadata": {
            "needs_background": "light"
          }
        }
      ]
    },
    {
      "cell_type": "markdown",
      "metadata": {
        "id": "pqwtoDZ2TwnD"
      },
      "source": [
        "## K-means result"
      ]
    },
    {
      "cell_type": "code",
      "metadata": {
        "colab": {
          "base_uri": "https://localhost:8080/",
          "height": 281
        },
        "id": "llht66pUTwnE",
        "outputId": "958b1ec8-a9af-46c0-8edb-e8537b8bec8a"
      },
      "source": [
        "from sklearn.cluster import KMeans\n",
        "kmeans = KMeans(n_clusters=3, random_state=0).fit(X)\n",
        "plt.scatter(X[:,0], X[:,1], c=kmeans.labels_)"
      ],
      "execution_count": null,
      "outputs": [
        {
          "output_type": "execute_result",
          "data": {
            "text/plain": [
              "<matplotlib.collections.PathCollection at 0x7fda73bb5bd0>"
            ]
          },
          "metadata": {},
          "execution_count": 31
        },
        {
          "output_type": "display_data",
          "data": {
            "image/png": "[encoded data removed]",
            "text/plain": [
              "<Figure size 432x288 with 1 Axes>"
            ]
          },
          "metadata": {
            "needs_background": "light"
          }
        }
      ]
    },
    {
      "cell_type": "code",
      "metadata": {
        "id": "TdnoFY4MTwnE"
      },
      "source": [],
      "execution_count": null,
      "outputs": []
    }
  ]
}